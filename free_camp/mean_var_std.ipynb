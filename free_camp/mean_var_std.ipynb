{
 "cells": [
  {
   "cell_type": "code",
   "execution_count": 3,
   "metadata": {},
   "outputs": [],
   "source": [
    "import numpy as np\n",
    "    "
   ]
  },
  {
   "cell_type": "code",
   "execution_count": 24,
   "metadata": {},
   "outputs": [],
   "source": [
    "def calculate(my_list):\n",
    "    \n",
    "    if len(my_list) != 9:\n",
    "        raise ValueError(\"List must contain nine numbers.\") \n",
    "\n",
    "    matrix= np.reshape(my_list,(3,3))\n",
    "    \n",
    "    result_dict={'mean':[],\n",
    "                'variance': [],\n",
    "                'standard deviation': [],\n",
    "                'max': [],\n",
    "                'min': [],\n",
    "                'sum': []}\n",
    "    \n",
    "    columns = [i for i  in matrix.T]\n",
    "    rows = [i for i  in matrix[ :, ]]\n",
    "    flattened = [list(matrix.ravel())]\n",
    "    matrix_decon=[columns, rows, flattened]\n",
    "    \n",
    "    for elem in matrix_decon:\n",
    "        if elem == flattened:\n",
    "            result_dict['mean'].append([np.mean(x) for x in elem][0])\n",
    "            result_dict['variance'].append([np.var(x) for x in elem][0])\n",
    "            result_dict['standard deviation'].append([np.std(x) for x in elem][0])\n",
    "            result_dict['max'].append([np.amax(x) for x in elem][0])\n",
    "            result_dict['min'].append([np.amin(x) for x in elem][0])\n",
    "            result_dict['sum'].append([np.sum(x) for x in elem][0])\n",
    "        else:     \n",
    "            result_dict['mean'].append([np.mean(x) for x in elem])\n",
    "            result_dict['variance'].append([np.var(x) for x in elem])\n",
    "            result_dict['standard deviation'].append([np.std(x) for x in elem])\n",
    "            result_dict['max'].append([np.amax(x) for x in elem])\n",
    "            result_dict['min'].append([np.amin(x) for x in elem])\n",
    "            result_dict['sum'].append([np.sum(x) for x in elem])\n",
    "    \n",
    "    return result_dict"
   ]
  }
 ],
 "metadata": {
  "kernelspec": {
   "display_name": "Python 3",
   "language": "python",
   "name": "python3"
  },
  "language_info": {
   "codemirror_mode": {
    "name": "ipython",
    "version": 3
   },
   "file_extension": ".py",
   "mimetype": "text/x-python",
   "name": "python",
   "nbconvert_exporter": "python",
   "pygments_lexer": "ipython3",
   "version": "3.7.4"
  }
 },
 "nbformat": 4,
 "nbformat_minor": 2
}
